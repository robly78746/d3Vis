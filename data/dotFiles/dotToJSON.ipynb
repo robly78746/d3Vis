{
 "cells": [
  {
   "cell_type": "code",
   "execution_count": 3,
   "metadata": {
    "collapsed": false
   },
   "outputs": [],
   "source": [
    "#conda install networkx\n",
    "#conda install graphviz\n",
    "#conda install -c conda-forge pydotplus\n",
    "\n",
    "import networkx as nx\n",
    "from networkx.readwrite import json_graph\n",
    "from networkx.drawing.nx_pydot import read_dot\n",
    "from networkx.drawing.nx_agraph import from_agraph\n",
    "\n",
    "#dump json into file\n",
    "import json\n",
    "\n",
    "#get absolute filepaths\n",
    "import os\n",
    "\n",
    "#command line arguments\n",
    "import sys\n",
    "\n",
    "#file pattern matching\n",
    "import glob\n",
    "\n",
    "#pip install graphviz\n",
    "#pip install pygraphviz\n",
    "import graphviz"
   ]
  },
  {
   "cell_type": "code",
   "execution_count": 2,
   "metadata": {
    "collapsed": true
   },
   "outputs": [],
   "source": [
    "def filesWithExtensions(folderPath, extensions):\n",
    "    files = []\n",
    "    for extension in extensions:\n",
    "        filenames = [x[x.rfind('\\\\') + 1:] for x in glob.glob(folderPath + '/*' + extension)]\n",
    "        files.extend(filenames)\n",
    "    return files"
   ]
  },
  {
   "cell_type": "code",
   "execution_count": 4,
   "metadata": {
    "collapsed": false
   },
   "outputs": [
    {
     "name": "stdout",
     "output_type": "stream",
     "text": [
      "success\n"
     ]
    }
   ],
   "source": [
    "#filesWithExtensions test\n",
    "testFolderPath = './test'\n",
    "testFileList = ['test.txt', 'test.json']\n",
    "if not os.path.exists(testFolderPath):\n",
    "    os.mkdir(testFolderPath)\n",
    "for file in testFileList:\n",
    "    open(testFolderPath + '/' + file, 'w+')\n",
    "\n",
    "extensions = ['.txt', '.json']\n",
    "files = filesWithExtensions(testFolderPath, extensions)\n",
    "fileDifference = set(testFileList).symmetric_difference(set(files))\n",
    "assert len(fileDifference) == 0, 'failed\\nexpected: {0}\\nactual: {1}'.format(testFileList, files)\n",
    "print('success')\n",
    "allFiles = filesWithExtensions(testFolderPath, [''])\n",
    "for file in allFiles:\n",
    "    os.remove(testFolderPath + '/' + file)\n",
    "os.rmdir(testFolderPath)"
   ]
  },
  {
   "cell_type": "code",
   "execution_count": 5,
   "metadata": {
    "collapsed": false
   },
   "outputs": [
    {
     "name": "stdout",
     "output_type": "stream",
     "text": [
      "0 dot files converted\n"
     ]
    }
   ],
   "source": [
    "dotFileExtensions = ['.dot', '.gv']\n",
    "dataFileName = 'data.json'\n",
    "\n",
    "if len(sys.argv) == 3:\n",
    "    dotFolderPath = os.path.abspath(sys.argv[1])\n",
    "    jsonFolderPath = os.path.abspath(sys.argv[2])\n",
    "    if not os.path.exists(jsonFolderPath):\n",
    "        os.mkdir(jsonFolderPath)\n",
    "    dotFiles = filesWithExtensions(dotFolderPath, dotFileExtensions)\n",
    "    counter = 0\n",
    "    for dotFile in dotFiles:\n",
    "        try:\n",
    "            dot_graph = pgv.AGraph(dotFolderPath + '/' + dotFile)\n",
    "        except (ValueError, DotError) as e:\n",
    "            print(dotFile + ' not in graphviz format')\n",
    "            continue\n",
    "        graph_netx = from_agraph(dot_graph)\n",
    "        graph_json = json_graph.node_link_data(graph_netx)#dot_graph)\n",
    "        filename = dotFile[:dotFile.rfind('.')]\n",
    "        json.dump(graph_json,open(jsonFolderPath + '/' + filename + '.json','w'),indent=2)\n",
    "        counter += 1\n",
    "    with open(dataFileName, 'w') as jsonFile:\n",
    "        data = {}\n",
    "        jsonFiles = filesWithExtensions(jsonFolderPath, '.json')\n",
    "        while dataFileName in jsonFiles:\n",
    "            jsonFiles.remove(dataFileName)\n",
    "        data[\"graphs\"] = jsonFiles\n",
    "        json.dump(data, jsonFile, indent=2)\n",
    "    print('{0} dot file{1} converted'.format(counter, '' if counter == 1 else 's'))\n",
    "else:\n",
    "    sys.stderr.write(\"Syntax : python %s dot_folder json_folder\\n\" % sys.argv[0])\n"
   ]
  },
  {
   "cell_type": "code",
   "execution_count": null,
   "metadata": {
    "collapsed": true
   },
   "outputs": [],
   "source": [
    "import json\n",
    "#update data.json to reflect json files in folder\n",
    "with open('data.json', 'w') as jsonFile:\n",
    "    data = json.load(jsonFile)\n",
    "    jsonFiles = filesWithExtensions(jsonFolderPath, '.json')\n",
    "    data[\"graphs\"] = jsonFiles\n",
    "    json.dump(data, jsonFile, indent=2)"
   ]
  },
  {
   "cell_type": "code",
   "execution_count": 6,
   "metadata": {
    "collapsed": false
   },
   "outputs": [
    {
     "name": "stdout",
     "output_type": "stream",
     "text": [
      "{\n",
      "  \"directed\": false,\n",
      "  \"multigraph\": true,\n",
      "  \"graph\": {\n",
      "    \"name\": \"G\"\n",
      "  },\n",
      "  \"nodes\": [\n",
      "    {\n",
      "      \"size\": \"8\",\n",
      "      \"type\": \"adder\",\n",
      "      \"id\": \"adder1\"\n",
      "    },\n",
      "    {\n",
      "      \"size\": \"8\",\n",
      "      \"type\": \"register\",\n",
      "      \"id\": \"register1\"\n",
      "    },\n",
      "    {\n",
      "      \"size\": \"8\",\n",
      "      \"type\": \"register\",\n",
      "      \"id\": \"register2\"\n",
      "    },\n",
      "    {\n",
      "      \"size\": \"8\",\n",
      "      \"type\": \"register\",\n",
      "      \"id\": \"register3\"\n",
      "    },\n",
      "    {\n",
      "      \"size\": \"1\",\n",
      "      \"type\": \"not\",\n",
      "      \"id\": \"not1\"\n",
      "    },\n",
      "    {\n",
      "      \"size\": \"16\",\n",
      "      \"type\": \"register\",\n",
      "      \"id\": \"adder2\"\n",
      "    }\n",
      "  ],\n",
      "  \"links\": [\n",
      "    {\n",
      "      \"delay\": \"5\",\n",
      "      \"source\": 0,\n",
      "      \"target\": 1,\n",
      "      \"key\": 0\n",
      "    },\n",
      "    {\n",
      "      \"delay\": \"5\",\n",
      "      \"source\": 0,\n",
      "      \"target\": 2,\n",
      "      \"key\": 0\n",
      "    },\n",
      "    {\n",
      "      \"delay\": \"10\",\n",
      "      \"source\": 0,\n",
      "      \"target\": 3,\n",
      "      \"key\": 0\n",
      "    },\n",
      "    {\n",
      "      \"delay\": \"1\",\n",
      "      \"source\": 1,\n",
      "      \"target\": 4,\n",
      "      \"key\": 0\n",
      "    },\n",
      "    {\n",
      "      \"delay\": \"30\",\n",
      "      \"source\": 1,\n",
      "      \"target\": 5,\n",
      "      \"key\": 0\n",
      "    },\n",
      "    {\n",
      "      \"delay\": \"70\",\n",
      "      \"source\": 2,\n",
      "      \"target\": 5,\n",
      "      \"key\": 0\n",
      "    },\n",
      "    {\n",
      "      \"delay\": \"1\",\n",
      "      \"source\": 3,\n",
      "      \"target\": 4,\n",
      "      \"key\": 0\n",
      "    },\n",
      "    {\n",
      "      \"delay\": \"40\",\n",
      "      \"source\": 3,\n",
      "      \"target\": 5,\n",
      "      \"key\": 0\n",
      "    }\n",
      "  ]\n",
      "}\n"
     ]
    }
   ],
   "source": [
    "dotFileExtensions = ['.dot', '.gv']\n",
    "dataFileName = 'data.json'\n",
    "dotFile = 'digital_logic_template.gv'\n",
    "dotFolderPath = os.path.abspath('dot')\n",
    "jsonFolderPath = os.path.abspath('..')\n",
    "counter = 0\n",
    "dot_graph = read_dot(dotFolderPath + '/' + dotFile)\n",
    "graph_json = json_graph.node_link_data(dot_graph)\n",
    "filename = dotFile[:dotFile.rfind('.')]\n",
    "print(json.dumps(graph_json,indent=2))\n",
    "counter += 1\n"
   ]
  },
  {
   "cell_type": "code",
   "execution_count": null,
   "metadata": {
    "collapsed": true
   },
   "outputs": [],
   "source": []
  }
 ],
 "metadata": {
  "kernelspec": {
   "display_name": "Python 3",
   "language": "python",
   "name": "python3"
  },
  "language_info": {
   "codemirror_mode": {
    "name": "ipython",
    "version": 3
   },
   "file_extension": ".py",
   "mimetype": "text/x-python",
   "name": "python",
   "nbconvert_exporter": "python",
   "pygments_lexer": "ipython3",
   "version": "3.6.0"
  }
 },
 "nbformat": 4,
 "nbformat_minor": 2
}
