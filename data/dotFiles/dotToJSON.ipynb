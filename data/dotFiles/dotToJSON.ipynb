{
 "cells": [
  {
   "cell_type": "code",
   "execution_count": 9,
   "metadata": {
    "collapsed": false
   },
   "outputs": [],
   "source": [
    "#conda install networkx\n",
    "#conda install graphviz\n",
    "#conda install -c conda-forge pydotplus\n",
    "\n",
    "import networkx as nx\n",
    "from networkx.readwrite import json_graph\n",
    "from networkx.drawing.nx_pydot import read_dot\n",
    "\n",
    "#dump json into file\n",
    "import json\n",
    "\n",
    "#get absolute filepaths\n",
    "import os"
   ]
  },
  {
   "cell_type": "code",
   "execution_count": 12,
   "metadata": {
    "collapsed": false
   },
   "outputs": [
    {
     "name": "stdout",
     "output_type": "stream",
     "text": [
      "{'directed': False, 'multigraph': True, 'graph': {'name': 'G'}, 'nodes': [{'id': 'a'}, {'id': 'b'}, {'id': 'c'}, {'id': 'd'}, {'id': 'e'}], 'links': [{'source': 0, 'target': 1, 'key': 0}, {'source': 0, 'target': 2, 'key': 0}, {'source': 0, 'target': 4, 'key': 0}, {'source': 1, 'target': 2, 'key': 0}, {'source': 2, 'target': 3, 'key': 0}, {'source': 2, 'target': 4, 'key': 0}]}\n"
     ]
    }
   ],
   "source": [
    "filename = 'simpleGraph.gv'\n",
    "name = filename[:filename.rfind('.')]\n",
    "dot_graph = read_dot(filename)\n",
    "graph_json = json_graph.node_link_data(dot_graph)\n",
    "print (graph_json)\n",
    "json.dump(graph_json,open(name + '.json','w'),indent=2)"
   ]
  },
  {
   "cell_type": "code",
   "execution_count": 3,
   "metadata": {
    "collapsed": false
   },
   "outputs": [
    {
     "ename": "NameError",
     "evalue": "name 'dr' is not defined",
     "output_type": "error",
     "traceback": [
      "\u001b[0;31m---------------------------------------------------------------------------\u001b[0m",
      "\u001b[0;31mNameError\u001b[0m                                 Traceback (most recent call last)",
      "\u001b[0;32m<ipython-input-3-fbcbce46cc7b>\u001b[0m in \u001b[0;36m<module>\u001b[0;34m()\u001b[0m\n\u001b[0;32m----> 1\u001b[0;31m \u001b[0mprint\u001b[0m\u001b[1;33m(\u001b[0m\u001b[0mdr\u001b[0m\u001b[1;33m(\u001b[0m\u001b[0mnx\u001b[0m\u001b[1;33m)\u001b[0m\u001b[1;33m)\u001b[0m\u001b[1;33m\u001b[0m\u001b[0m\n\u001b[0m",
      "\u001b[0;31mNameError\u001b[0m: name 'dr' is not defined"
     ]
    }
   ],
   "source": [
    "\n",
    "os.path.abspath(path)"
   ]
  },
  {
   "cell_type": "code",
   "execution_count": null,
   "metadata": {
    "collapsed": true
   },
   "outputs": [],
   "source": []
  }
 ],
 "metadata": {
  "kernelspec": {
   "display_name": "Python 3",
   "language": "python",
   "name": "python3"
  },
  "language_info": {
   "codemirror_mode": {
    "name": "ipython",
    "version": 3
   },
   "file_extension": ".py",
   "mimetype": "text/x-python",
   "name": "python",
   "nbconvert_exporter": "python",
   "pygments_lexer": "ipython3",
   "version": "3.6.0"
  }
 },
 "nbformat": 4,
 "nbformat_minor": 2
}
