{
 "cells": [
  {
   "cell_type": "code",
   "execution_count": 1,
   "metadata": {
    "collapsed": false
   },
   "outputs": [
    {
     "ename": "ModuleNotFoundError",
     "evalue": "No module named 'networkx'",
     "output_type": "error",
     "traceback": [
      "\u001b[0;31m---------------------------------------------------------------------------\u001b[0m",
      "\u001b[0;31mModuleNotFoundError\u001b[0m                       Traceback (most recent call last)",
      "\u001b[0;32m<ipython-input-1-7fd6e5006000>\u001b[0m in \u001b[0;36m<module>\u001b[0;34m()\u001b[0m\n\u001b[1;32m      3\u001b[0m \u001b[1;31m#conda install -c conda-forge pydotplus\u001b[0m\u001b[1;33m\u001b[0m\u001b[1;33m\u001b[0m\u001b[0m\n\u001b[1;32m      4\u001b[0m \u001b[1;33m\u001b[0m\u001b[0m\n\u001b[0;32m----> 5\u001b[0;31m \u001b[1;32mimport\u001b[0m \u001b[0mnetworkx\u001b[0m \u001b[1;32mas\u001b[0m \u001b[0mnx\u001b[0m\u001b[1;33m\u001b[0m\u001b[0m\n\u001b[0m\u001b[1;32m      6\u001b[0m \u001b[1;32mfrom\u001b[0m \u001b[0mnetworkx\u001b[0m\u001b[1;33m.\u001b[0m\u001b[0mreadwrite\u001b[0m \u001b[1;32mimport\u001b[0m \u001b[0mjson_graph\u001b[0m\u001b[1;33m\u001b[0m\u001b[0m\n\u001b[1;32m      7\u001b[0m \u001b[1;32mfrom\u001b[0m \u001b[0mnetworkx\u001b[0m\u001b[1;33m.\u001b[0m\u001b[0mdrawing\u001b[0m\u001b[1;33m.\u001b[0m\u001b[0mnx_pydot\u001b[0m \u001b[1;32mimport\u001b[0m \u001b[0mread_dot\u001b[0m\u001b[1;33m\u001b[0m\u001b[0m\n",
      "\u001b[0;31mModuleNotFoundError\u001b[0m: No module named 'networkx'"
     ]
    }
   ],
   "source": [
    "#conda install networkx\n",
    "#conda install graphviz\n",
    "#conda install -c conda-forge pydotplus\n",
    "\n",
    "import networkx as nx\n",
    "from networkx.readwrite import json_graph\n",
    "from networkx.drawing.nx_pydot import read_dot\n",
    "from networkx.drawing.nx_agraph import from_agraph\n",
    "\n",
    "#dump json into file\n",
    "import json\n",
    "\n",
    "#get absolute filepaths\n",
    "import os\n",
    "\n",
    "#command line arguments\n",
    "import sys\n",
    "\n",
    "#file pattern matching\n",
    "import glob\n",
    "\n",
    "#pip install graphviz\n",
    "#pip install pygraphviz\n",
    "import graphviz"
   ]
  },
  {
   "cell_type": "code",
   "execution_count": 2,
   "metadata": {
    "collapsed": true
   },
   "outputs": [],
   "source": [
    "def filesWithExtensions(folderPath, extensions):\n",
    "    files = []\n",
    "    for extension in extensions:\n",
    "        filenames = [x[x.rfind('\\\\') + 1:] for x in glob.glob(folderPath + '/*' + extension)]\n",
    "        files.extend(filenames)\n",
    "    return files"
   ]
  },
  {
   "cell_type": "code",
   "execution_count": 4,
   "metadata": {
    "collapsed": false
   },
   "outputs": [
    {
     "name": "stdout",
     "output_type": "stream",
     "text": [
      "success\n"
     ]
    }
   ],
   "source": [
    "#filesWithExtensions test\n",
    "testFolderPath = './test'\n",
    "testFileList = ['test.txt', 'test.json']\n",
    "if not os.path.exists(testFolderPath):\n",
    "    os.mkdir(testFolderPath)\n",
    "for file in testFileList:\n",
    "    open(testFolderPath + '/' + file, 'w+')\n",
    "\n",
    "extensions = ['.txt', '.json']\n",
    "files = filesWithExtensions(testFolderPath, extensions)\n",
    "fileDifference = set(testFileList).symmetric_difference(set(files))\n",
    "assert len(fileDifference) == 0, 'failed\\nexpected: {0}\\nactual: {1}'.format(testFileList, files)\n",
    "print('success')\n",
    "allFiles = filesWithExtensions(testFolderPath, [''])\n",
    "for file in allFiles:\n",
    "    os.remove(testFolderPath + '/' + file)\n",
    "os.rmdir(testFolderPath)"
   ]
  },
  {
   "cell_type": "code",
   "execution_count": 5,
   "metadata": {
    "collapsed": false
   },
   "outputs": [
    {
     "name": "stdout",
     "output_type": "stream",
     "text": [
      "0 dot files converted\n"
     ]
    }
   ],
   "source": [
    "dotFileExtensions = ['.dot', '.gv']\n",
    "dataFileName = 'data.json'\n",
    "\n",
    "if len(sys.argv) == 3:\n",
    "    dotFolderPath = os.path.abspath(sys.argv[1])\n",
    "    jsonFolderPath = os.path.abspath(sys.argv[2])\n",
    "    if not os.path.exists(jsonFolderPath):\n",
    "        os.mkdir(jsonFolderPath)\n",
    "    dotFiles = filesWithExtensions(dotFolderPath, dotFileExtensions)\n",
    "    counter = 0\n",
    "    for dotFile in dotFiles:\n",
    "        try:\n",
    "            dot_graph = pgv.AGraph(dotFolderPath + '/' + dotFile)\n",
    "        except (ValueError, DotError) as e:\n",
    "            print(dotFile + ' not in graphviz format')\n",
    "            continue\n",
    "        graph_netx = from_agraph(dot_graph)\n",
    "        graph_json = json_graph.node_link_data(graph_netx)#dot_graph)\n",
    "        filename = dotFile[:dotFile.rfind('.')]\n",
    "        json.dump(graph_json,open(jsonFolderPath + '/' + filename + '.json','w'),indent=2)\n",
    "        counter += 1\n",
    "    with open(dataFileName, 'w') as jsonFile:\n",
    "        data = {}\n",
    "        jsonFiles = filesWithExtensions(jsonFolderPath, '.json')\n",
    "        while dataFileName in jsonFiles:\n",
    "            jsonFiles.remove(dataFileName)\n",
    "        data[\"graphs\"] = jsonFiles\n",
    "        json.dump(data, jsonFile, indent=2)\n",
    "    print('{0} dot file{1} converted'.format(counter, '' if counter == 1 else 's'))\n",
    "else:\n",
    "    sys.stderr.write(\"Syntax : python %s dot_folder json_folder\\n\" % sys.argv[0])\n"
   ]
  },
  {
   "cell_type": "code",
   "execution_count": null,
   "metadata": {
    "collapsed": true
   },
   "outputs": [],
   "source": [
    "import json\n",
    "#update data.json to reflect json files in folder\n",
    "with open('data.json', 'w') as jsonFile:\n",
    "    data = json.load(jsonFile)\n",
    "    jsonFiles = filesWithExtensions(jsonFolderPath, '.json')\n",
    "    data[\"graphs\"] = jsonFiles\n",
    "    json.dump(data, jsonFile, indent=2)"
   ]
  },
  {
   "cell_type": "code",
   "execution_count": 2,
   "metadata": {
    "collapsed": false
   },
   "outputs": [
    {
     "ename": "NameError",
     "evalue": "name 'pgv' is not defined",
     "output_type": "error",
     "traceback": [
      "\u001b[0;31m---------------------------------------------------------------------------\u001b[0m",
      "\u001b[0;31mNameError\u001b[0m                                 Traceback (most recent call last)",
      "\u001b[0;32m<ipython-input-2-713416dd8dde>\u001b[0m in \u001b[0;36m<module>\u001b[0;34m()\u001b[0m\n\u001b[1;32m      6\u001b[0m \u001b[0mcounter\u001b[0m \u001b[1;33m=\u001b[0m \u001b[1;36m0\u001b[0m\u001b[1;33m\u001b[0m\u001b[0m\n\u001b[1;32m      7\u001b[0m \u001b[0mdotFilePath\u001b[0m \u001b[1;33m=\u001b[0m \u001b[0mdotFolderPath\u001b[0m \u001b[1;33m+\u001b[0m \u001b[1;34m'/'\u001b[0m \u001b[1;33m+\u001b[0m \u001b[0mdotFile\u001b[0m\u001b[1;33m\u001b[0m\u001b[0m\n\u001b[0;32m----> 8\u001b[0;31m \u001b[0mdot_graph\u001b[0m \u001b[1;33m=\u001b[0m \u001b[0mpgv\u001b[0m\u001b[1;33m.\u001b[0m\u001b[0mAGraph\u001b[0m\u001b[1;33m(\u001b[0m\u001b[0mdotFilePath\u001b[0m\u001b[1;33m)\u001b[0m\u001b[1;33m\u001b[0m\u001b[0m\n\u001b[0m\u001b[1;32m      9\u001b[0m \u001b[0mgraph_netx\u001b[0m \u001b[1;33m=\u001b[0m \u001b[0mfrom_agraph\u001b[0m\u001b[1;33m(\u001b[0m\u001b[0mdot_graph\u001b[0m\u001b[1;33m)\u001b[0m\u001b[1;33m\u001b[0m\u001b[0m\n\u001b[1;32m     10\u001b[0m \u001b[0mgraph_json\u001b[0m \u001b[1;33m=\u001b[0m \u001b[0mjson_graph\u001b[0m\u001b[1;33m.\u001b[0m\u001b[0mnode_link_data\u001b[0m\u001b[1;33m(\u001b[0m\u001b[0mgraph_netx\u001b[0m\u001b[1;33m)\u001b[0m\u001b[1;33m\u001b[0m\u001b[0m\n",
      "\u001b[0;31mNameError\u001b[0m: name 'pgv' is not defined"
     ]
    }
   ],
   "source": [
    "dotFileExtensions = ['.dot', '.gv']\n",
    "dataFileName = 'data.json'\n",
    "dotFile = 'TimingPathsLTAll.dot'\n",
    "dotFolderPath = os.path.abspath('dot')\n",
    "jsonFolderPath = os.path.abspath('..')\n",
    "counter = 0\n",
    "dotFilePath = dotFolderPath + '/' + dotFile\n",
    "dot_graph = pgv.AGraph(dotFilePath)\n",
    "graph_netx = from_agraph(dot_graph)\n",
    "graph_json = json_graph.node_link_data(graph_netx)\n",
    "filename = dotFile[:dotFile.rfind('.')]\n",
    "print(json.dumps(graph_json,indent=2))\n",
    "counter += 1\n"
   ]
  },
  {
   "cell_type": "code",
   "execution_count": 4,
   "metadata": {
    "collapsed": false
   },
   "outputs": [],
   "source": [
    "import json \n",
    "#file pattern matching\n",
    "import glob\n",
    "\n",
    "jsonFileExtension = '.json'\n",
    "\n",
    "jsonFolderPath = 'json'#os.path.abspath(sys.argv[1])\n",
    "jsonFiles = filesWithExtensions(jsonFolderPath, [jsonFileExtension])"
   ]
  },
  {
   "cell_type": "code",
   "execution_count": 12,
   "metadata": {
    "collapsed": false
   },
   "outputs": [
    {
     "name": "stdout",
     "output_type": "stream",
     "text": [
      "{'SubtractPrimitive', 'DataAccessor', 'NegatePrimitive', 'Constant', 'DecrementPrimitive', 'PipeLine', 'SquareRootPrimitive', 'AndPrimitive', 'ArrayIndexNode', 'IsEqualPrimitive', 'Wire', 'SelectPrimitive', 'not', 'IsGreaterPrimitive', 'AbsoluteValuePrimitive', 'IsNotEqualTo0Primitive', 'adder', 'IsLessPrimitive', 'IsGreaterOrEqualPrimitive', 'OneHotSelector', 'ToFixedPointPrimitive', 'FeedbackOutputNode', 'MultiplyPrimitive', 'IsLessOrEqualPrimitive', 'OrPrimitive', 'LeftShiftRegister', 'FeedbackInputNode', 'LutNode', 'register', 'ReplaceArraySubsetNode', 'IsLessThan0Primitive', 'DividePrimitive', 'RightShiftRegister', 'CoercionNode', 'Register', 'AddPrimitive', 'IsGreaterOrEqualTo0Primitive'}\n",
      "Number of types of nodes: 37\n"
     ]
    }
   ],
   "source": [
    "typesOfNodes = set()\n",
    "for jsonFile in jsonFiles:\n",
    "    with open(jsonFolderPath + '/' + jsonFile) as data_file:    \n",
    "        data = json.load(data_file)\n",
    "        for node in data['nodes']:\n",
    "            if 'type' in node:\n",
    "                typesOfNodes.add(node['type'])\n",
    "print(sorted(list(typesOfNodes)))\n",
    "print(\"Number of types of nodes:\", len(typesOfNodes))"
   ]
  },
  {
   "cell_type": "code",
   "execution_count": null,
   "metadata": {
    "collapsed": true
   },
   "outputs": [],
   "source": []
  }
 ],
 "metadata": {
  "kernelspec": {
   "display_name": "Python 3",
   "language": "python",
   "name": "python3"
  },
  "language_info": {
   "codemirror_mode": {
    "name": "ipython",
    "version": 3
   },
   "file_extension": ".py",
   "mimetype": "text/x-python",
   "name": "python",
   "nbconvert_exporter": "python",
   "pygments_lexer": "ipython3",
   "version": "3.6.0"
  }
 },
 "nbformat": 4,
 "nbformat_minor": 2
}
